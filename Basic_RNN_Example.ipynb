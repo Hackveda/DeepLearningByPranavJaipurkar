{
 "cells": [
  {
   "cell_type": "code",
   "execution_count": 2,
   "metadata": {},
   "outputs": [],
   "source": [
    "# Importing important libraries\n",
    "from pandas import read_csv\n",
    "import numpy as np\n",
    "from keras.models import Sequential\n",
    "from keras.layers import Dense, SimpleRNN\n",
    "from sklearn.preprocessing import MinMaxScaler\n",
    "from sklearn.metrics import mean_squared_error\n",
    "import matplotlib.pyplot as plt\n",
    "%matplotlib inline"
   ]
  },
  {
   "cell_type": "code",
   "execution_count": 4,
   "metadata": {},
   "outputs": [],
   "source": [
    "# Defining RNN \n",
    "def create_RNN(hidden_units, dense_units, input_shape, activation):\n",
    "    model = Sequential()\n",
    "    model.add(SimpleRNN(hidden_units, input_shape = input_shape,\n",
    "                       activation = activation[0]))\n",
    "    model.add(Dense(units = dense_units, activation = activation[1]))\n",
    "    model.compile(loss = 'mean_squared_error', optimizer = 'adam')\n",
    "    return model\n",
    "demo_model = create_RNN(2, 1, (3, 1), activation = ['linear', 'linear'])"
   ]
  },
  {
   "cell_type": "code",
   "execution_count": 6,
   "metadata": {},
   "outputs": [
    {
     "name": "stdout",
     "output_type": "stream",
     "text": [
      "wx =  [[0.8634945 1.4059447]] wh =  [[-0.19610345  0.9805832 ]\n",
      " [-0.9805832  -0.19610351]] bh =  [0. 0.] wy =  [[ 1.0461444 ]\n",
      " [-0.25601614]] by =  [0.]\n"
     ]
    }
   ],
   "source": [
    "# Getting weights\n",
    "wx = demo_model.get_weights()[0]\n",
    "wh = demo_model.get_weights()[1]\n",
    "bh = demo_model.get_weights()[2]\n",
    "wy = demo_model.get_weights()[3]\n",
    "by = demo_model.get_weights()[4]\n",
    "\n",
    "print('wx = ', wx, 'wh = ', wh, 'bh = ', bh, 'wy = ', wy, 'by = ', by)"
   ]
  },
  {
   "cell_type": "code",
   "execution_count": 7,
   "metadata": {},
   "outputs": [],
   "source": [
    "# Testing data\n",
    "x = np.array([1,2,3])\n",
    "\n",
    "# Reshaping\n",
    "x_input = np.reshape(x, (1,3,1))\n",
    "\n",
    "# Getting predictions from the model\n",
    "y_pred = demo_model.predict(x_input)"
   ]
  },
  {
   "cell_type": "code",
   "execution_count": 8,
   "metadata": {},
   "outputs": [
    {
     "name": "stdout",
     "output_type": "stream",
     "text": [
      "[[-1.7519288]]\n"
     ]
    }
   ],
   "source": [
    "print(y_pred)"
   ]
  },
  {
   "cell_type": "code",
   "execution_count": 9,
   "metadata": {},
   "outputs": [
    {
     "name": "stdout",
     "output_type": "stream",
     "text": [
      "h1 =  [[0.86349452 1.40594471]] h2 =  [[0.17900903 3.38290692]] h3 =  [[-0.76184241  3.72996743]] o3 =  [[-1.75192899]]\n",
      "Predictions from network  [[-1.7519288]]\n",
      "Predictions from computation  [[-1.75192899]]\n"
     ]
    }
   ],
   "source": [
    "# Computation\n",
    "m = 2\n",
    "h0 = np.zeros(m)\n",
    "h1 = np.dot(x[0], wx) + h0 + bh\n",
    "h2 = np.dot(x[1], wx) +np.dot(h1, wh) + bh\n",
    "h3 = np.dot(x[2], wx) + np.dot(h2, wh) + bh\n",
    "o3 = np.dot(h3, wy) + by\n",
    "\n",
    "print('h1 = ', h1, 'h2 = ', h2, 'h3 = ', h3, 'o3 = ', o3)\n",
    "\n",
    "print('Predictions from network ', y_pred)\n",
    "print('Predictions from computation ', o3)"
   ]
  },
  {
   "cell_type": "code",
   "execution_count": null,
   "metadata": {},
   "outputs": [],
   "source": []
  }
 ],
 "metadata": {
  "kernelspec": {
   "display_name": "Python 3",
   "language": "python",
   "name": "python3"
  },
  "language_info": {
   "codemirror_mode": {
    "name": "ipython",
    "version": 3
   },
   "file_extension": ".py",
   "mimetype": "text/x-python",
   "name": "python",
   "nbconvert_exporter": "python",
   "pygments_lexer": "ipython3",
   "version": "3.8.3"
  }
 },
 "nbformat": 4,
 "nbformat_minor": 4
}
