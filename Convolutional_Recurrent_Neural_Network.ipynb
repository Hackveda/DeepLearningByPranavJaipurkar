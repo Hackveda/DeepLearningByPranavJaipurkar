{
 "cells": [
  {
   "cell_type": "code",
   "execution_count": 2,
   "metadata": {},
   "outputs": [],
   "source": [
    "# Function\n",
    "def get_model(data_in, data_out, _cnn_nb_filt, _cnn_pool_size, _rnn_nb, _fc_nb, drop_out_rate):\n",
    "    spec_start = Input(shape = (data_in.shape[-3], data_in.shape[-2], data_in.shape[-1]))\n",
    "    spec_x = spec_start\n",
    "    for _i, _cnt in enumerate(_cnn_pool_size):\n",
    "        spec_x = Conv2D(filters = cnn_nb_filt, kernel_size = (2,2), padding = 'same')(spec_x)\n",
    "        spec_x = BatchNormalization(axis = 1)(spec_x)\n",
    "        spec_x = Activation('relu')(spex_x)\n",
    "        spec_x = MaxPooling2D(pool_size = (1, _cnn_pol_size[_i]))(spec_x)\n",
    "        spec_x = Dropout(dropout_rate)(spec_x)\n",
    "        spec_x = Permute((2,1,3))(spec_x)\n",
    "        spec_x = Reshape((data_in.shape[-2], -1))(spec_x)\n",
    "    \n",
    "    for _r in _rnn_nb:\n",
    "        spec_x = Bidirectional(\n",
    "        GRU(_r, activation = 'tanh', dropout = droput_rate, \n",
    "            recurrent_dropout = dropout_rate, return_sequences = True),\n",
    "        merge_mode = 'concat')(spec_x)\n",
    "        \n",
    "    for _f in _fc_nb:\n",
    "        spec_x = TimeDistributed(Dense(_f))(spec_x)\n",
    "        spec_x = Dropout(dropout_rate)(spec_x)\n",
    "        spec_x = TimeDistributed(Dense(data_out.shape[-1]))(spec_x)\n",
    "        out = Activation('sigmoid', name = 'strong_out')(spec_x)\n",
    "        \n",
    "    _model = Model(inputs = spec_start, outputs = out)\n",
    "    _model.compile(optimizer = 'Adam', loss = 'binary_crossentropy', metrics = ['accuracy'])\n",
    "    _model.summary()\n",
    "    return _model"
   ]
  },
  {
   "cell_type": "code",
   "execution_count": null,
   "metadata": {},
   "outputs": [],
   "source": [
    "# Load Model\n",
    "model = get_model(X, Y, cnn_nb_filt, cnn_pool_size, rnn_nb, fc_nb, dropout_rate = 0.5)"
   ]
  },
  {
   "cell_type": "code",
   "execution_count": null,
   "metadata": {},
   "outputs": [],
   "source": []
  }
 ],
 "metadata": {
  "kernelspec": {
   "display_name": "Python 3",
   "language": "python",
   "name": "python3"
  },
  "language_info": {
   "codemirror_mode": {
    "name": "ipython",
    "version": 3
   },
   "file_extension": ".py",
   "mimetype": "text/x-python",
   "name": "python",
   "nbconvert_exporter": "python",
   "pygments_lexer": "ipython3",
   "version": "3.8.3"
  }
 },
 "nbformat": 4,
 "nbformat_minor": 4
}
